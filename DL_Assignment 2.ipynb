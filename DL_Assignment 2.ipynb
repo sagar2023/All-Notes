{
 "cells": [
  {
   "cell_type": "code",
   "execution_count": 1,
   "id": "29f3cd81",
   "metadata": {},
   "outputs": [],
   "source": [
    "import numpy as np\n",
    "import tensorflow as tf\n",
    "from tensorflow import keras\n",
    "from sklearn.metrics import confusion_matrix, classification_report\n",
    "import matplotlib.pyplot as plt"
   ]
  },
  {
   "cell_type": "code",
   "execution_count": 2,
   "id": "5a694375",
   "metadata": {},
   "outputs": [],
   "source": [
    "# Load the IMDB dataset\n",
    "imdb = keras.datasets.imdb"
   ]
  },
  {
   "cell_type": "code",
   "execution_count": 3,
   "id": "d298b77e",
   "metadata": {},
   "outputs": [],
   "source": [
    "# Split the dataset into training and testing sets\n",
    "(train_data, train_labels), (test_data, test_labels) = imdb.load_data(num_words=10000)"
   ]
  },
  {
   "cell_type": "code",
   "execution_count": 4,
   "id": "6a3e2e66",
   "metadata": {},
   "outputs": [],
   "source": [
    "# Preprocess the data by padding the sequences\n",
    "train_data = keras.preprocessing.sequence.pad_sequences(train_data, value=0, padding='post', maxlen=256)\n",
    "test_data = keras.preprocessing.sequence.pad_sequences(test_data, value=0, padding='post', maxlen=256)"
   ]
  },
  {
   "cell_type": "markdown",
   "id": "59b02260",
   "metadata": {},
   "source": [
    "Define the model architecture using an Embedding layer, a GlobalAveragePooling1D layer, and two Dense layers. The Embedding layer learns a dense representation of the input sequences, the GlobalAveragePooling1D layer averages over the sequence dimension to generate a fixed-length output vector, and the two Dense layers perform classification."
   ]
  },
  {
   "cell_type": "code",
   "execution_count": 5,
   "id": "579cf9b0",
   "metadata": {},
   "outputs": [],
   "source": [
    "# Define the model architecture\n",
    "model = keras.Sequential([\n",
    "    keras.layers.Embedding(10000, 16),\n",
    "    keras.layers.GlobalAveragePooling1D(),\n",
    "    keras.layers.Dense(16, activation='relu'),\n",
    "    keras.layers.Dense(1, activation='sigmoid')\n",
    "])"
   ]
  },
  {
   "cell_type": "code",
   "execution_count": 6,
   "id": "01724483",
   "metadata": {},
   "outputs": [],
   "source": [
    "# Compile the model\n",
    "model.compile(optimizer='adam', loss='binary_crossentropy', metrics=['accuracy'])"
   ]
  },
  {
   "cell_type": "code",
   "execution_count": 7,
   "id": "8cf991bd",
   "metadata": {
    "scrolled": true
   },
   "outputs": [
    {
     "name": "stdout",
     "output_type": "stream",
     "text": [
      "Epoch 1/10\n",
      "49/49 [==============================] - 3s 42ms/step - loss: 0.6905 - accuracy: 0.5975 - val_loss: 0.6861 - val_accuracy: 0.6983\n",
      "Epoch 2/10\n",
      "49/49 [==============================] - 2s 32ms/step - loss: 0.6742 - accuracy: 0.7366 - val_loss: 0.6594 - val_accuracy: 0.7492\n",
      "Epoch 3/10\n",
      "49/49 [==============================] - 2s 31ms/step - loss: 0.6311 - accuracy: 0.7748 - val_loss: 0.6052 - val_accuracy: 0.7772\n",
      "Epoch 4/10\n",
      "49/49 [==============================] - 2s 32ms/step - loss: 0.5616 - accuracy: 0.8089 - val_loss: 0.5344 - val_accuracy: 0.8067\n",
      "Epoch 5/10\n",
      "49/49 [==============================] - 2s 32ms/step - loss: 0.4834 - accuracy: 0.8395 - val_loss: 0.4661 - val_accuracy: 0.8318\n",
      "Epoch 6/10\n",
      "49/49 [==============================] - 2s 33ms/step - loss: 0.4151 - accuracy: 0.8611 - val_loss: 0.4128 - val_accuracy: 0.8499\n",
      "Epoch 7/10\n",
      "49/49 [==============================] - 2s 35ms/step - loss: 0.3633 - accuracy: 0.8757 - val_loss: 0.3759 - val_accuracy: 0.8578\n",
      "Epoch 8/10\n",
      "49/49 [==============================] - 2s 34ms/step - loss: 0.3257 - accuracy: 0.8873 - val_loss: 0.3503 - val_accuracy: 0.8630\n",
      "Epoch 9/10\n",
      "49/49 [==============================] - 2s 33ms/step - loss: 0.2969 - accuracy: 0.8944 - val_loss: 0.3331 - val_accuracy: 0.8676\n",
      "Epoch 10/10\n",
      "49/49 [==============================] - 2s 34ms/step - loss: 0.2750 - accuracy: 0.9006 - val_loss: 0.3191 - val_accuracy: 0.8720\n"
     ]
    }
   ],
   "source": [
    "# Train the model\n",
    "history = model.fit(train_data, train_labels, epochs=10, batch_size=512, validation_data=(test_data, test_labels))"
   ]
  },
  {
   "cell_type": "code",
   "execution_count": 8,
   "id": "1e05a3e2",
   "metadata": {},
   "outputs": [
    {
     "name": "stdout",
     "output_type": "stream",
     "text": [
      "782/782 [==============================] - 2s 3ms/step - loss: 0.3191 - accuracy: 0.8720\n",
      "Test accuracy: 0.8719599843025208\n"
     ]
    }
   ],
   "source": [
    "# Evaluate the model\n",
    "test_loss, test_acc = model.evaluate(test_data, test_labels)\n",
    "print('Test accuracy:', test_acc)"
   ]
  },
  {
   "cell_type": "code",
   "execution_count": 9,
   "id": "8e0459e0",
   "metadata": {},
   "outputs": [
    {
     "name": "stdout",
     "output_type": "stream",
     "text": [
      "782/782 [==============================] - 2s 3ms/step\n"
     ]
    }
   ],
   "source": [
    "# Make predictions on the testing data\n",
    "y_pred = np.round(model.predict(test_data)).flatten()\n",
    "\n",
    "# Generate the confusion matrix and classification report\n",
    "cm = confusion_matrix(test_labels, y_pred)\n",
    "report = classification_report(test_labels, y_pred)"
   ]
  },
  {
   "cell_type": "code",
   "execution_count": 10,
   "id": "fa589f9b",
   "metadata": {},
   "outputs": [
    {
     "name": "stdout",
     "output_type": "stream",
     "text": [
      "Confusion Matrix:\n",
      " [[10788  1712]\n",
      " [ 1489 11011]]\n",
      "Classification Report:\n",
      "               precision    recall  f1-score   support\n",
      "\n",
      "           0       0.88      0.86      0.87     12500\n",
      "           1       0.87      0.88      0.87     12500\n",
      "\n",
      "    accuracy                           0.87     25000\n",
      "   macro avg       0.87      0.87      0.87     25000\n",
      "weighted avg       0.87      0.87      0.87     25000\n",
      "\n"
     ]
    }
   ],
   "source": [
    "# Print the confusion matrix and classification report\n",
    "print(\"Confusion Matrix:\\n\", cm)\n",
    "print(\"Classification Report:\\n\", report)"
   ]
  },
  {
   "cell_type": "code",
   "execution_count": 11,
   "id": "3afd5a30",
   "metadata": {},
   "outputs": [
    {
     "data": {
      "image/png": "[encoded data removed]",
      "text/plain": [
       "<Figure size 640x480 with 2 Axes>"
      ]
     },
     "metadata": {},
     "output_type": "display_data"
    }
   ],
   "source": [
    "# Define the plot labels\n",
    "classes = [\"Negative\", \"Positive\"]\n",
    "\n",
    "# Plot the confusion matrix\n",
    "plt.imshow(cm, interpolation='nearest', cmap=plt.cm.Blues)\n",
    "plt.title(\"Confusion Matrix\")\n",
    "plt.colorbar()\n",
    "tick_marks = np.arange(len(classes))\n",
    "plt.xticks(tick_marks, classes, rotation=45)\n",
    "plt.yticks(tick_marks, classes)\n",
    "thresh = cm.max() / 2.\n",
    "for i, j in np.ndindex(cm.shape):\n",
    "    plt.text(j, i, format(cm[i, j], 'd'), ha=\"center\", va=\"center\", color=\"white\" if cm[i, j] > thresh else \"black\")\n",
    "plt.xlabel('Predicted label')\n",
    "plt.ylabel('True label')\n",
    "plt.tight_layout()\n",
    "plt.show()"
   ]
  },
  {
   "cell_type": "code",
   "execution_count": null,
   "id": "9297c127",
   "metadata": {},
   "outputs": [],
   "source": []
  }
 ],
 "metadata": {
  "kernelspec": {
   "display_name": "Python 3 (ipykernel)",
   "language": "python",
   "name": "python3"
  },
  "language_info": {
   "codemirror_mode": {
    "name": "ipython",
    "version": 3
   },
   "file_extension": ".py",
   "mimetype": "text/x-python",
   "name": "python",
   "nbconvert_exporter": "python",
   "pygments_lexer": "ipython3",
   "version": "3.11.0"
  }
 },
 "nbformat": 4,
 "nbformat_minor": 5
}
